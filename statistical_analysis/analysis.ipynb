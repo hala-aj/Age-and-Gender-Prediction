{
  "nbformat": 4,
  "nbformat_minor": 0,
  "metadata": {
    "colab": {
      "provenance": []
    },
    "kernelspec": {
      "name": "python3",
      "display_name": "Python 3"
    },
    "language_info": {
      "name": "python"
    }
  },
  "cells": [
    {
      "cell_type": "markdown",
      "source": [
        "install all libraries from requirements.txt here if necessary"
      ],
      "metadata": {
        "id": "o1Eca93OrL_s"
      }
    },
    {
      "cell_type": "code",
      "source": [
        "!pip install mtcnn"
      ],
      "metadata": {
        "id": "aFvwO6YHBWSP"
      },
      "execution_count": null,
      "outputs": []
    },
    {
      "cell_type": "code",
      "source": [
        "import os\n",
        "import numpy as np\n",
        "import pandas as pd\n",
        "import matplotlib.pyplot as plt\n",
        "import seaborn as sns\n",
        "import tensorflow as tf\n",
        "from PIL import Image\n",
        "from mtcnn import MTCNN"
      ],
      "metadata": {
        "id": "v7uPBcMLdg1S"
      },
      "execution_count": 2,
      "outputs": []
    },
    {
      "cell_type": "code",
      "source": [
        "# paths to directory and models\n",
        "directory = \"/content/inputs\" # specify the directory path of the images you wish to analyze here\n",
        "# specify age and gender model paths here\n",
        "gender_model_path = \"/content/gender_model.keras\"\n",
        "age_model_path = \"/content/age_model.keras\"\n",
        "\n",
        "# loading models with error handling\n",
        "try:\n",
        "    gender_model = tf.keras.models.load_model(gender_model_path)\n",
        "    age_model = tf.keras.models.load_model(age_model_path)\n",
        "    print('Models loaded successfully!')\n",
        "except FileNotFoundError:\n",
        "    print(\"Error: The model file was not found. Please check the file path.\")\n",
        "except ValueError as e:\n",
        "    print(f\"Error: {e}. This may indicate a mismatch in model architecture or TensorFlow version.\")\n",
        "except Exception as e:\n",
        "    print(f\"Error loading models: {e}\")"
      ],
      "metadata": {
        "id": "O95NXPynQlu9"
      },
      "execution_count": null,
      "outputs": []
    },
    {
      "cell_type": "code",
      "source": [
        "# crops images from a given directory and saves them to an output directory\n",
        "# if no argument is given for output directory 'cropped_images' will be created\n",
        "def process_and_crop_mtcnn(input_dir, output_dir='cropped_images'):\n",
        "\n",
        "    # error handling for directories\n",
        "    if not os.path.exists(input_dir):\n",
        "        print(f\"Error: Input directory '{input_dir}' does not exist.\")\n",
        "        return\n",
        "\n",
        "    if not os.path.exists(output_dir):\n",
        "        os.makedirs(output_dir)\n",
        "        print(f\"Output directory '{output_dir}' created.\")\n",
        "\n",
        "    detector = MTCNN()\n",
        "\n",
        "    # iterating over images in directory\n",
        "    for img_name in os.listdir(input_dir):\n",
        "        img_path = os.path.join(input_dir, img_name)\n",
        "\n",
        "        try:\n",
        "            img = Image.open(img_path)\n",
        "            img_array = np.array(img)\n",
        "\n",
        "            # converts image to RGB if it has an alpha channel\n",
        "            if img_array.shape[-1] == 4:\n",
        "                img = img.convert(\"RGB\")\n",
        "                img_array = np.array(img)\n",
        "\n",
        "            detections = detector.detect_faces(img_array)\n",
        "\n",
        "            if detections:\n",
        "                for i, face in enumerate(detections):\n",
        "                    x, y, width, height = face['box']\n",
        "                    x2, y2 = x + width, y + height\n",
        "\n",
        "                    # cropping and resizing face\n",
        "                    face_img = img_array[y:y2, x:x2]\n",
        "\n",
        "                    face_img_pil = Image.fromarray(face_img)\n",
        "                    face_img_resized = face_img_pil.resize((224, 224))\n",
        "\n",
        "                    # saving cropped and resized image to output directory\n",
        "                    output_img_path = os.path.join(output_dir, f\"{os.path.splitext(img_name)[0]}_face_{i+1}.jpg\")\n",
        "                    face_img_resized.save(output_img_path)\n",
        "\n",
        "        except Exception as e:\n",
        "            print(f\"Error processing {img_name}: {e}\")"
      ],
      "metadata": {
        "id": "uBlzvqZSQOG1"
      },
      "execution_count": 4,
      "outputs": []
    },
    {
      "cell_type": "code",
      "source": [
        "# saves summary of the metrics used along with plots\n",
        "def generate_summary_with_plots(df_results, save_dir='summary_and_plots'):\n",
        "    if not os.path.exists(save_dir):\n",
        "        os.makedirs(save_dir)\n",
        "        print(f\"Output directory '{save_dir}' created.\")\n",
        "\n",
        "   # gender count and male to female ratio\n",
        "    male_count = df_results[df_results['Gender'] == \"Male\"].shape[0]\n",
        "    female_count = df_results[df_results['Gender'] == \"Female\"].shape[0]\n",
        "\n",
        "    if female_count > 0:\n",
        "        male_female_ratio = male_count / female_count\n",
        "        print(f\"\\nMale to Female Ratio: {male_female_ratio:.2f}\")\n",
        "    else:\n",
        "        print(\"\\nNo females detected; ratio calculation is not possible.\")\n",
        "\n",
        "    # gender confidence metrics\n",
        "    avg_male_confidence = (df_results[df_results['Gender'] == \"Male\"][\"Gender Confidence\"].mean())*100\n",
        "    avg_female_confidence = (df_results[df_results['Gender'] == \"Female\"][\"Gender Confidence\"].mean())*100\n",
        "\n",
        "    # age distribution metrics\n",
        "    mean_age = df_results['Age'].mean()\n",
        "    median_age = df_results['Age'].median()\n",
        "    mode_age = df_results['Age'].mode().values[0]\n",
        "    age_range = (df_results['Age'].min(), df_results['Age'].max())\n",
        "    std_dev_age = df_results['Age'].std()\n",
        "\n",
        "    # creating a summary DataFrame\n",
        "    summary = pd.DataFrame({\n",
        "    \"Metric\": [\"Total Faces\", \"Number of Males\", \"Number of Females\", \"Male to Female Ratio\",\n",
        "               \"Average Male Confidence\", \"Average Female Confidence\",\n",
        "               \"Mean Age\", \"Median Age\", \"Mode Age\", \"Age Range\", \"Age Standard Deviation\"],\n",
        "    \"Value\": [male_count + female_count, male_count, female_count, f\"{male_female_ratio:.2f}\",\n",
        "              f\"{avg_male_confidence:.2f}%\", f\"{avg_female_confidence:.2f}%\",\n",
        "              mean_age, median_age, mode_age, f\"{age_range[0]} - {age_range[1]}\", std_dev_age]})\n",
        "\n",
        "    # saving the DataFrame as an Excel file in the given directory\n",
        "    summary.to_excel(os.path.join(save_dir, 'summary.xlsx'), index=False)\n",
        "\n",
        "    # data plots\n",
        "    plt.figure(figsize=(8, 6))\n",
        "    sns.boxplot(x=\"Gender\", y=\"Age\", data=df_results)\n",
        "    plt.title(\"Age Distribution by Gender\")\n",
        "    plt.savefig(os.path.join(save_dir,\"age_distribution_by_gender.png\"))\n",
        "    plt.close()\n",
        "\n",
        "    plt.figure(figsize=(8, 6))\n",
        "    sns.histplot(df_results[\"Age\"], kde=True, binwidth=1)\n",
        "    plt.title(\"Age Distribution\")\n",
        "    plt.xlabel(\"Age\")\n",
        "    max_y = plt.gca().get_ylim()[1]\n",
        "    plt.xticks(range(int(df_results[\"Age\"].min()), int(df_results[\"Age\"].max()) + 1))\n",
        "    plt.yticks(range(0, int(max_y) + 1, 1))\n",
        "    plt.savefig(os.path.join(save_dir, \"age_distribution.png\"))\n",
        "    plt.close()\n",
        "\n",
        "    plt.figure(figsize=(6, 4))\n",
        "    sns.countplot(x=df_results[\"Gender\"])\n",
        "    plt.title(\"Gender Count\")\n",
        "    plt.xlabel(\"Gender\")\n",
        "    plt.ylabel(\"Count\")\n",
        "    plt.savefig(os.path.join(save_dir,\"gender_count.png\"))\n",
        "    plt.close()\n",
        "\n",
        "    return summary"
      ],
      "metadata": {
        "id": "mlBU24L95WWk"
      },
      "execution_count": 5,
      "outputs": []
    },
    {
      "cell_type": "code",
      "source": [
        "# main analysis function\n",
        "def analyze_faces(directory, output_directory='outputs', summary_and_plot_directory='summary_and_plots'):\n",
        "    process_and_crop_mtcnn(directory, output_directory)\n",
        "    results = []\n",
        "\n",
        "    for img_name in os.listdir(output_directory):\n",
        "      img_path = os.path.join(output_directory, img_name)\n",
        "\n",
        "      try:\n",
        "          img = Image.open(img_path)\n",
        "          img_array = np.array(img) / 255.0\n",
        "          img_array = np.expand_dims(img_array, axis=0)\n",
        "\n",
        "          gender_pred_prob = gender_model.predict(img_array)\n",
        "          gender_pred = (gender_pred_prob[0][0] > 0.5).astype(int)\n",
        "          gender_confidence = gender_pred_prob[0][0] if gender_pred == 1 else 1 - gender_pred_prob[0][0]\n",
        "\n",
        "          gender_label = \"Male\" if gender_pred == 1 else \"Female\"\n",
        "\n",
        "          age_pred = age_model.predict(img_array)\n",
        "          age = int(age_pred[0][0])\n",
        "\n",
        "          results.append({\n",
        "              \"Image\": img_name,\n",
        "              \"Gender\": gender_label,\n",
        "              \"Gender Confidence\": gender_confidence,\n",
        "              \"Age\": age\n",
        "          })\n",
        "\n",
        "      except Exception as e:\n",
        "          print(f\"Error analyzing {img_name}: {e}\")\n",
        "\n",
        "    # convert results to DataFrame\n",
        "    df_results = pd.DataFrame(results)\n",
        "\n",
        "    # saving the DataFrame as an Excel file\n",
        "    df_results.to_excel(os.path.join(output_directory, 'results.xlsx'), index=False)\n",
        "\n",
        "    summary = generate_summary_with_plots(df_results, summary_and_plot_directory)\n",
        "\n",
        "    return summary"
      ],
      "metadata": {
        "id": "LxkJh3UN7FPG"
      },
      "execution_count": 6,
      "outputs": []
    },
    {
      "cell_type": "code",
      "source": [
        "summary = analyze_faces('/content/inputs')"
      ],
      "metadata": {
        "collapsed": true,
        "id": "o5AIelcXSupl"
      },
      "execution_count": null,
      "outputs": []
    },
    {
      "cell_type": "code",
      "source": [
        "summary"
      ],
      "metadata": {
        "id": "8s3696FXXMNP"
      },
      "execution_count": null,
      "outputs": []
    }
  ]
}